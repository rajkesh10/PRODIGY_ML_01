{
  "metadata": {
    "kernelspec": {
      "language": "python",
      "display_name": "Python 3",
      "name": "python3"
    },
    "language_info": {
      "name": "python",
      "version": "3.10.13",
      "mimetype": "text/x-python",
      "codemirror_mode": {
        "name": "ipython",
        "version": 3
      },
      "pygments_lexer": "ipython3",
      "nbconvert_exporter": "python",
      "file_extension": ".py"
    },
    "kaggle": {
      "accelerator": "none",
      "dataSources": [
        {
          "sourceId": 5407,
          "databundleVersionId": 868283,
          "sourceType": "competition"
        }
      ],
      "dockerImageVersionId": 30673,
      "isInternetEnabled": false,
      "language": "python",
      "sourceType": "notebook",
      "isGpuEnabled": false
    },
    "colab": {
      "name": "House Prices - Regression Analysis",
      "provenance": []
    }
  },
  "nbformat_minor": 0,
  "nbformat": 4,
  "cells": [
    {
      "cell_type": "code",
      "source": [
        "import pandas as pd\n",
        "from sklearn.preprocessing import LabelEncoder, OneHotEncoder\n",
        "from sklearn.model_selection import train_test_split\n",
        "from sklearn.linear_model import LinearRegression\n",
        "from sklearn.ensemble import RandomForestRegressor\n",
        "from sklearn.metrics import mean_squared_error\n",
        "import matplotlib.pyplot as plt"
      ],
      "metadata": {
        "_uuid": "8f2839f25d086af736a60e9eeb907d3b93b6e0e5",
        "_cell_guid": "b1076dfc-b9ad-4769-8c92-a6c4dae69d19",
        "execution": {
          "iopub.status.busy": "2024-03-31T20:12:40.895469Z",
          "iopub.execute_input": "2024-03-31T20:12:40.897006Z",
          "iopub.status.idle": "2024-03-31T20:12:40.904053Z",
          "shell.execute_reply.started": "2024-03-31T20:12:40.896964Z",
          "shell.execute_reply": "2024-03-31T20:12:40.902141Z"
        },
        "trusted": true,
        "id": "0gBO40yXtGco"
      },
      "execution_count": 55,
      "outputs": []
    },
    {
      "cell_type": "code",
      "source": [
        "# Load data\n",
        "df_train = pd.read_csv(\"/content/train.csv\")\n",
        "df_test = pd.read_csv(\"/content/test.csv\")\n"
      ],
      "metadata": {
        "execution": {
          "iopub.status.busy": "2024-03-31T20:12:40.907362Z",
          "iopub.execute_input": "2024-03-31T20:12:40.907897Z",
          "iopub.status.idle": "2024-03-31T20:12:40.982564Z",
          "shell.execute_reply.started": "2024-03-31T20:12:40.907856Z",
          "shell.execute_reply": "2024-03-31T20:12:40.981309Z"
        },
        "trusted": true,
        "id": "aSK_DkrWtGcp"
      },
      "execution_count": 56,
      "outputs": []
    },
    {
      "source": [
        "!pip install scikit-learn"
      ],
      "cell_type": "code",
      "metadata": {
        "id": "hD2AEutruDPk",
        "outputId": "93129b71-765b-4467-98c3-0b816dedf436",
        "colab": {
          "base_uri": "https://localhost:8080/"
        }
      },
      "execution_count": 57,
      "outputs": [
        {
          "output_type": "stream",
          "name": "stdout",
          "text": [
            "Requirement already satisfied: scikit-learn in /usr/local/lib/python3.10/dist-packages (1.2.2)\n",
            "Requirement already satisfied: numpy>=1.17.3 in /usr/local/lib/python3.10/dist-packages (from scikit-learn) (1.25.2)\n",
            "Requirement already satisfied: scipy>=1.3.2 in /usr/local/lib/python3.10/dist-packages (from scikit-learn) (1.11.4)\n",
            "Requirement already satisfied: joblib>=1.1.1 in /usr/local/lib/python3.10/dist-packages (from scikit-learn) (1.3.2)\n",
            "Requirement already satisfied: threadpoolctl>=2.0.0 in /usr/local/lib/python3.10/dist-packages (from scikit-learn) (3.4.0)\n"
          ]
        }
      ]
    },
    {
      "source": [
        "from sklearn.preprocessing import LabelEncoder\n",
        "import pandas as pd"
      ],
      "cell_type": "code",
      "metadata": {
        "id": "xySfsDGxuEJ2"
      },
      "execution_count": 58,
      "outputs": []
    },
    {
      "source": [
        "unseen_categories = set(df_test[categorical_cols].values.ravel()) - set(df_train[categorical_cols].values.ravel())\n",
        "print(f\"Unseen categories: {unseen_categories}\")"
      ],
      "cell_type": "code",
      "metadata": {
        "id": "knCOIabBuEq8",
        "outputId": "9f0fed67-adac-4766-82e9-4d30b230e6fe",
        "colab": {
          "base_uri": "https://localhost:8080/"
        }
      },
      "execution_count": 59,
      "outputs": [
        {
          "output_type": "stream",
          "name": "stdout",
          "text": [
            "Unseen categories: set()\n"
          ]
        }
      ]
    },
    {
      "source": [
        "print(unseen_categories)"
      ],
      "cell_type": "code",
      "metadata": {
        "id": "_Bz-Ui3_uYa_",
        "outputId": "aa7e1cd9-54de-4ac2-a81a-b9964af037c5",
        "colab": {
          "base_uri": "https://localhost:8080/"
        }
      },
      "execution_count": 60,
      "outputs": [
        {
          "output_type": "stream",
          "name": "stdout",
          "text": [
            "set()\n"
          ]
        }
      ]
    },
    {
      "source": [
        "print(df_test.columns)"
      ],
      "cell_type": "code",
      "metadata": {
        "id": "dSZJYzokuZvo",
        "outputId": "2da1d76e-dfb0-4300-9296-6fb4e37cfbfb",
        "colab": {
          "base_uri": "https://localhost:8080/"
        }
      },
      "execution_count": 61,
      "outputs": [
        {
          "output_type": "stream",
          "name": "stdout",
          "text": [
            "Index(['Id', 'MSSubClass', 'MSZoning', 'LotFrontage', 'LotArea', 'Street',\n",
            "       'Alley', 'LotShape', 'LandContour', 'Utilities', 'LotConfig',\n",
            "       'LandSlope', 'Neighborhood', 'Condition1', 'Condition2', 'BldgType',\n",
            "       'HouseStyle', 'OverallQual', 'OverallCond', 'YearBuilt', 'YearRemodAdd',\n",
            "       'RoofStyle', 'RoofMatl', 'Exterior1st', 'Exterior2nd', 'MasVnrType',\n",
            "       'MasVnrArea', 'ExterQual', 'ExterCond', 'Foundation', 'BsmtQual',\n",
            "       'BsmtCond', 'BsmtExposure', 'BsmtFinType1', 'BsmtFinSF1',\n",
            "       'BsmtFinType2', 'BsmtFinSF2', 'BsmtUnfSF', 'TotalBsmtSF', 'Heating',\n",
            "       'HeatingQC', 'CentralAir', 'Electrical', '1stFlrSF', '2ndFlrSF',\n",
            "       'LowQualFinSF', 'GrLivArea', 'BsmtFullBath', 'BsmtHalfBath', 'FullBath',\n",
            "       'HalfBath', 'BedroomAbvGr', 'KitchenAbvGr', 'KitchenQual',\n",
            "       'TotRmsAbvGrd', 'Functional', 'Fireplaces', 'FireplaceQu', 'GarageType',\n",
            "       'GarageYrBlt', 'GarageFinish', 'GarageCars', 'GarageArea', 'GarageQual',\n",
            "       'GarageCond', 'PavedDrive', 'WoodDeckSF', 'OpenPorchSF',\n",
            "       'EnclosedPorch', '3SsnPorch', 'ScreenPorch', 'PoolArea', 'PoolQC',\n",
            "       'Fence', 'MiscFeature', 'MiscVal', 'MoSold', 'YrSold', 'SaleType',\n",
            "       'SaleCondition'],\n",
            "      dtype='object')\n"
          ]
        }
      ]
    },
    {
      "source": [
        "print(df_test.isnull().sum())"
      ],
      "cell_type": "code",
      "metadata": {
        "id": "oK0ffiLvuaVY",
        "outputId": "bac45c83-c2d3-4691-b402-98b9cce331ea",
        "colab": {
          "base_uri": "https://localhost:8080/"
        }
      },
      "execution_count": 62,
      "outputs": [
        {
          "output_type": "stream",
          "name": "stdout",
          "text": [
            "Id                 0\n",
            "MSSubClass         0\n",
            "MSZoning           4\n",
            "LotFrontage      227\n",
            "LotArea            0\n",
            "                ... \n",
            "MiscVal            0\n",
            "MoSold             0\n",
            "YrSold             0\n",
            "SaleType           1\n",
            "SaleCondition      0\n",
            "Length: 80, dtype: int64\n"
          ]
        }
      ]
    },
    {
      "cell_type": "code",
      "source": [
        "# Feature engineering (replace with more advanced techniques as needed)\n",
        "# Handle categorical features\n",
        "categorical_cols = [col for col in df_train.columns if df_train[col].dtype == 'object']\n",
        "le = LabelEncoder()\n",
        "le.fit(df_train[categorical_cols].values.ravel())  # Fit on all categories (including unseen)\n",
        "\n",
        "def encode_label(col):\n",
        "  # Encode with le, unseen labels get -1\n",
        "  return le.transform(col)\n",
        "\n",
        "df_train[categorical_cols] = df_train[categorical_cols].apply(encode_label)\n",
        "df_test[categorical_cols] = df_test[categorical_cols].apply(encode_label)\n"
      ],
      "metadata": {
        "execution": {
          "iopub.status.busy": "2024-03-31T20:12:40.984545Z",
          "iopub.execute_input": "2024-03-31T20:12:40.984983Z",
          "iopub.status.idle": "2024-03-31T20:12:41.100113Z",
          "shell.execute_reply.started": "2024-03-31T20:12:40.98495Z",
          "shell.execute_reply": "2024-03-31T20:12:41.099175Z"
        },
        "trusted": true,
        "id": "P8j3hF2EtGcp"
      },
      "execution_count": 63,
      "outputs": []
    },
    {
      "cell_type": "code",
      "source": [
        "# Handle missing values (replace with more sophisticated methods)\n",
        "df_train.fillna(df_train.mean(), inplace=True)\n",
        "df_test.fillna(df_train.mean(), inplace=True)"
      ],
      "metadata": {
        "execution": {
          "iopub.status.busy": "2024-03-31T20:12:41.101574Z",
          "iopub.execute_input": "2024-03-31T20:12:41.102132Z",
          "iopub.status.idle": "2024-03-31T20:12:41.161848Z",
          "shell.execute_reply.started": "2024-03-31T20:12:41.102099Z",
          "shell.execute_reply": "2024-03-31T20:12:41.160917Z"
        },
        "trusted": true,
        "id": "q6ychWhYtGcq"
      },
      "execution_count": 64,
      "outputs": []
    },
    {
      "cell_type": "code",
      "source": [
        "# Separate features and target variable\n",
        "X_train = df_train.drop('SalePrice', axis=1)\n",
        "y_train = df_train['SalePrice']\n",
        "\n",
        "# Train-Test Split\n",
        "X_train, X_val, y_train, y_val = train_test_split(X_train, y_train, test_size=0.2, random_state=42)"
      ],
      "metadata": {
        "execution": {
          "iopub.status.busy": "2024-03-31T20:12:41.164352Z",
          "iopub.execute_input": "2024-03-31T20:12:41.164934Z",
          "iopub.status.idle": "2024-03-31T20:12:41.180913Z",
          "shell.execute_reply.started": "2024-03-31T20:12:41.164902Z",
          "shell.execute_reply": "2024-03-31T20:12:41.178548Z"
        },
        "trusted": true,
        "id": "iYxmIBqctGcq"
      },
      "execution_count": 65,
      "outputs": []
    },
    {
      "cell_type": "code",
      "source": [
        "# Random Forest Regression\n",
        "model_rf = RandomForestRegressor(n_estimators=100, random_state=42)\n",
        "model_rf.fit(X_train, y_train)  # Colon added after function definition\n",
        "y_pred_rf = model_rf.predict(X_val)  # Colon added after function definition\n",
        "rf_mse = mean_squared_error(y_val, y_pred_rf)\n",
        "print(f\"Random Forest MSE: {rf_mse}\")\n"
      ],
      "metadata": {
        "execution": {
          "iopub.status.busy": "2024-03-31T20:12:41.183261Z",
          "iopub.execute_input": "2024-03-31T20:12:41.183699Z",
          "iopub.status.idle": "2024-03-31T20:12:43.321827Z",
          "shell.execute_reply.started": "2024-03-31T20:12:41.183664Z",
          "shell.execute_reply": "2024-03-31T20:12:43.320513Z"
        },
        "trusted": true,
        "id": "VwqiA5NetGcq",
        "outputId": "320239c3-73ce-4964-ea59-a60b8eaec7f9",
        "colab": {
          "base_uri": "https://localhost:8080/"
        }
      },
      "execution_count": 66,
      "outputs": [
        {
          "output_type": "stream",
          "name": "stdout",
          "text": [
            "Random Forest MSE: 788408486.9051509\n"
          ]
        }
      ]
    },
    {
      "cell_type": "code",
      "source": [
        "# Separate features and target variable (drop \"Id\" consistently)\n",
        "X_train = df_train.drop(['Id', 'SalePrice'], axis=1)\n",
        "y_train = df_train['SalePrice']\n",
        "\n",
        "# Train-Test Split (already done, but ensuring consistency)\n",
        "X_train, X_val, y_train, y_val = train_test_split(X_train, y_train, test_size=0.2, random_state=42)\n",
        "model_rf.fit(X_train, y_train)\n"
      ],
      "metadata": {
        "execution": {
          "iopub.status.busy": "2024-03-31T20:12:43.323679Z",
          "iopub.execute_input": "2024-03-31T20:12:43.324519Z",
          "iopub.status.idle": "2024-03-31T20:12:45.368698Z",
          "shell.execute_reply.started": "2024-03-31T20:12:43.324468Z",
          "shell.execute_reply": "2024-03-31T20:12:45.367511Z"
        },
        "trusted": true,
        "id": "nWzr4Ja3tGcq",
        "outputId": "bdb4eb0c-e3f3-45c7-87c3-a46c0a0c976d",
        "colab": {
          "base_uri": "https://localhost:8080/",
          "height": 75
        }
      },
      "execution_count": 67,
      "outputs": [
        {
          "output_type": "execute_result",
          "data": {
            "text/plain": [
              "RandomForestRegressor(random_state=42)"
            ],
            "text/html": [
              "<style>#sk-container-id-2 {color: black;background-color: white;}#sk-container-id-2 pre{padding: 0;}#sk-container-id-2 div.sk-toggleable {background-color: white;}#sk-container-id-2 label.sk-toggleable__label {cursor: pointer;display: block;width: 100%;margin-bottom: 0;padding: 0.3em;box-sizing: border-box;text-align: center;}#sk-container-id-2 label.sk-toggleable__label-arrow:before {content: \"▸\";float: left;margin-right: 0.25em;color: #696969;}#sk-container-id-2 label.sk-toggleable__label-arrow:hover:before {color: black;}#sk-container-id-2 div.sk-estimator:hover label.sk-toggleable__label-arrow:before {color: black;}#sk-container-id-2 div.sk-toggleable__content {max-height: 0;max-width: 0;overflow: hidden;text-align: left;background-color: #f0f8ff;}#sk-container-id-2 div.sk-toggleable__content pre {margin: 0.2em;color: black;border-radius: 0.25em;background-color: #f0f8ff;}#sk-container-id-2 input.sk-toggleable__control:checked~div.sk-toggleable__content {max-height: 200px;max-width: 100%;overflow: auto;}#sk-container-id-2 input.sk-toggleable__control:checked~label.sk-toggleable__label-arrow:before {content: \"▾\";}#sk-container-id-2 div.sk-estimator input.sk-toggleable__control:checked~label.sk-toggleable__label {background-color: #d4ebff;}#sk-container-id-2 div.sk-label input.sk-toggleable__control:checked~label.sk-toggleable__label {background-color: #d4ebff;}#sk-container-id-2 input.sk-hidden--visually {border: 0;clip: rect(1px 1px 1px 1px);clip: rect(1px, 1px, 1px, 1px);height: 1px;margin: -1px;overflow: hidden;padding: 0;position: absolute;width: 1px;}#sk-container-id-2 div.sk-estimator {font-family: monospace;background-color: #f0f8ff;border: 1px dotted black;border-radius: 0.25em;box-sizing: border-box;margin-bottom: 0.5em;}#sk-container-id-2 div.sk-estimator:hover {background-color: #d4ebff;}#sk-container-id-2 div.sk-parallel-item::after {content: \"\";width: 100%;border-bottom: 1px solid gray;flex-grow: 1;}#sk-container-id-2 div.sk-label:hover label.sk-toggleable__label {background-color: #d4ebff;}#sk-container-id-2 div.sk-serial::before {content: \"\";position: absolute;border-left: 1px solid gray;box-sizing: border-box;top: 0;bottom: 0;left: 50%;z-index: 0;}#sk-container-id-2 div.sk-serial {display: flex;flex-direction: column;align-items: center;background-color: white;padding-right: 0.2em;padding-left: 0.2em;position: relative;}#sk-container-id-2 div.sk-item {position: relative;z-index: 1;}#sk-container-id-2 div.sk-parallel {display: flex;align-items: stretch;justify-content: center;background-color: white;position: relative;}#sk-container-id-2 div.sk-item::before, #sk-container-id-2 div.sk-parallel-item::before {content: \"\";position: absolute;border-left: 1px solid gray;box-sizing: border-box;top: 0;bottom: 0;left: 50%;z-index: -1;}#sk-container-id-2 div.sk-parallel-item {display: flex;flex-direction: column;z-index: 1;position: relative;background-color: white;}#sk-container-id-2 div.sk-parallel-item:first-child::after {align-self: flex-end;width: 50%;}#sk-container-id-2 div.sk-parallel-item:last-child::after {align-self: flex-start;width: 50%;}#sk-container-id-2 div.sk-parallel-item:only-child::after {width: 0;}#sk-container-id-2 div.sk-dashed-wrapped {border: 1px dashed gray;margin: 0 0.4em 0.5em 0.4em;box-sizing: border-box;padding-bottom: 0.4em;background-color: white;}#sk-container-id-2 div.sk-label label {font-family: monospace;font-weight: bold;display: inline-block;line-height: 1.2em;}#sk-container-id-2 div.sk-label-container {text-align: center;}#sk-container-id-2 div.sk-container {/* jupyter's `normalize.less` sets `[hidden] { display: none; }` but bootstrap.min.css set `[hidden] { display: none !important; }` so we also need the `!important` here to be able to override the default hidden behavior on the sphinx rendered scikit-learn.org. See: https://github.com/scikit-learn/scikit-learn/issues/21755 */display: inline-block !important;position: relative;}#sk-container-id-2 div.sk-text-repr-fallback {display: none;}</style><div id=\"sk-container-id-2\" class=\"sk-top-container\"><div class=\"sk-text-repr-fallback\"><pre>RandomForestRegressor(random_state=42)</pre><b>In a Jupyter environment, please rerun this cell to show the HTML representation or trust the notebook. <br />On GitHub, the HTML representation is unable to render, please try loading this page with nbviewer.org.</b></div><div class=\"sk-container\" hidden><div class=\"sk-item\"><div class=\"sk-estimator sk-toggleable\"><input class=\"sk-toggleable__control sk-hidden--visually\" id=\"sk-estimator-id-2\" type=\"checkbox\" checked><label for=\"sk-estimator-id-2\" class=\"sk-toggleable__label sk-toggleable__label-arrow\">RandomForestRegressor</label><div class=\"sk-toggleable__content\"><pre>RandomForestRegressor(random_state=42)</pre></div></div></div></div></div>"
            ]
          },
          "metadata": {},
          "execution_count": 67
        }
      ]
    },
    {
      "cell_type": "code",
      "source": [
        "# Scatter plot of actual vs predicted values\n",
        "plt.scatter(y_val, y_pred_rf)\n",
        "plt.xlabel(\"Actual Sale Price\")\n",
        "plt.ylabel(\"Predicted Sale Price\")\n",
        "plt.title(\"Random Forest Regression - Actual vs Predicted\")\n",
        "plt.show()"
      ],
      "metadata": {
        "execution": {
          "iopub.status.busy": "2024-03-31T20:12:45.37053Z",
          "iopub.execute_input": "2024-03-31T20:12:45.370907Z",
          "iopub.status.idle": "2024-03-31T20:12:45.695143Z",
          "shell.execute_reply.started": "2024-03-31T20:12:45.370876Z",
          "shell.execute_reply": "2024-03-31T20:12:45.693874Z"
        },
        "trusted": true,
        "id": "5QfxdB-htGcq",
        "outputId": "4cc680b9-1e25-45e1-fc12-87aa0198b408",
        "colab": {
          "base_uri": "https://localhost:8080/",
          "height": 472
        }
      },
      "execution_count": 68,
      "outputs": [
        {
          "output_type": "display_data",
          "data": {
            "text/plain": [
              "<Figure size 640x480 with 1 Axes>"
            ],
            "image/png": "[encoded data removed]"
          },
          "metadata": {}
        }
      ]
    },
    {
      "cell_type": "code",
      "source": [
        "# Prediction on Test Data (assuming model_rf is already trained)\n",
        "X_test = df_test.drop('Id', axis=1)  # Drop ID as it's not a feature\n",
        "y_pred_test_rf = model_rf.predict(X_test)\n",
        "\n",
        "# Create the submission DataFrame\n",
        "submission_df = pd.DataFrame({'Id': df_test['Id'], 'SalePrice': y_pred_test_rf})\n",
        "\n",
        "# Save predictions for submission\n",
        "submission_df.to_csv('submission.csv', index=False)\n"
      ],
      "metadata": {
        "execution": {
          "iopub.status.busy": "2024-03-31T20:12:45.697075Z",
          "iopub.execute_input": "2024-03-31T20:12:45.697492Z",
          "iopub.status.idle": "2024-03-31T20:12:45.753381Z",
          "shell.execute_reply.started": "2024-03-31T20:12:45.697456Z",
          "shell.execute_reply": "2024-03-31T20:12:45.7524Z"
        },
        "trusted": true,
        "id": "AmieqRW3tGcr"
      },
      "execution_count": 69,
      "outputs": []
    }
  ]
}